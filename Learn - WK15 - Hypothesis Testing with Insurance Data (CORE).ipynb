{
 "cells": [
  {
   "cell_type": "markdown",
   "id": "a07e3c86",
   "metadata": {},
   "source": [
    "# Hypothesis Testing with Insurance Data (Core)\n",
    "Jon Messier \\\n",
    "3/9/2023\n",
    "\n",
    "For this assignment, we will be working with the [US Health Insurance Dataset](https://docs.google.com/spreadsheets/d/e/2PACX-1vQBN8DPW2rdiRrY34eEM53HAzakNGSRrw4ogI-j8HyCUrbqTB_z4CeIn2IvjLF-w_6sOe5pIlypJGAA/pub?output=csv) from Kaggle.\n",
    "\n",
    "We have been asked to use our hypothesis testing skills to answer the following questions:\n",
    "\n",
    "- Q1. Do smokers have higher insurance charges than non-smokers?\n",
    "- Q2. Are men more likely to smoke than women?\n",
    "- Q3. Do different regions have different charges, on average?\n",
    "\n",
    "\n",
    "For each question, make sure to:\n",
    "\n",
    "1.  State your Null Hypothesis and Alternative Hypothesis\n",
    "2.   Select the correct test according to the data type and number of samples\n",
    "3.   Test the assumptions of your selected test.\n",
    "4.  Execute the selected test, or the alternative test (if you do not meet the assumptions)\n",
    "5.   Interpret your p-value and reject or fail to reject your null hypothesis \n",
    "6.   Show a supporting visualization that helps display the result\n",
    "\n",
    "\n"
   ]
  },
  {
   "cell_type": "code",
   "execution_count": 1,
   "id": "2be7bcde",
   "metadata": {},
   "outputs": [],
   "source": [
    "import json\n",
    "import pandas as pd\n",
    "import numpy as np\n",
    "\n",
    "import matplotlib.pyplot as plt\n",
    "import seaborn as sns\n",
    "\n",
    "from scipy import stats\n",
    "import scipy"
   ]
  },
  {
   "cell_type": "code",
   "execution_count": 2,
   "id": "7c8ca64b",
   "metadata": {},
   "outputs": [
    {
     "name": "stdout",
     "output_type": "stream",
     "text": [
      "<class 'pandas.core.frame.DataFrame'>\n",
      "RangeIndex: 1338 entries, 0 to 1337\n",
      "Data columns (total 7 columns):\n",
      " #   Column    Non-Null Count  Dtype  \n",
      "---  ------    --------------  -----  \n",
      " 0   age       1338 non-null   int64  \n",
      " 1   sex       1338 non-null   object \n",
      " 2   bmi       1338 non-null   float64\n",
      " 3   children  1338 non-null   int64  \n",
      " 4   smoker    1338 non-null   object \n",
      " 5   region    1338 non-null   object \n",
      " 6   charges   1338 non-null   float64\n",
      "dtypes: float64(2), int64(2), object(3)\n",
      "memory usage: 73.3+ KB\n"
     ]
    },
    {
     "data": {
      "text/html": [
       "<div>\n",
       "<style scoped>\n",
       "    .dataframe tbody tr th:only-of-type {\n",
       "        vertical-align: middle;\n",
       "    }\n",
       "\n",
       "    .dataframe tbody tr th {\n",
       "        vertical-align: top;\n",
       "    }\n",
       "\n",
       "    .dataframe thead th {\n",
       "        text-align: right;\n",
       "    }\n",
       "</style>\n",
       "<table border=\"1\" class=\"dataframe\">\n",
       "  <thead>\n",
       "    <tr style=\"text-align: right;\">\n",
       "      <th></th>\n",
       "      <th>age</th>\n",
       "      <th>sex</th>\n",
       "      <th>bmi</th>\n",
       "      <th>children</th>\n",
       "      <th>smoker</th>\n",
       "      <th>region</th>\n",
       "      <th>charges</th>\n",
       "    </tr>\n",
       "  </thead>\n",
       "  <tbody>\n",
       "    <tr>\n",
       "      <th>0</th>\n",
       "      <td>19</td>\n",
       "      <td>female</td>\n",
       "      <td>27.900</td>\n",
       "      <td>0</td>\n",
       "      <td>yes</td>\n",
       "      <td>southwest</td>\n",
       "      <td>16884.92400</td>\n",
       "    </tr>\n",
       "    <tr>\n",
       "      <th>1</th>\n",
       "      <td>18</td>\n",
       "      <td>male</td>\n",
       "      <td>33.770</td>\n",
       "      <td>1</td>\n",
       "      <td>no</td>\n",
       "      <td>southeast</td>\n",
       "      <td>1725.55230</td>\n",
       "    </tr>\n",
       "    <tr>\n",
       "      <th>2</th>\n",
       "      <td>28</td>\n",
       "      <td>male</td>\n",
       "      <td>33.000</td>\n",
       "      <td>3</td>\n",
       "      <td>no</td>\n",
       "      <td>southeast</td>\n",
       "      <td>4449.46200</td>\n",
       "    </tr>\n",
       "    <tr>\n",
       "      <th>3</th>\n",
       "      <td>33</td>\n",
       "      <td>male</td>\n",
       "      <td>22.705</td>\n",
       "      <td>0</td>\n",
       "      <td>no</td>\n",
       "      <td>northwest</td>\n",
       "      <td>21984.47061</td>\n",
       "    </tr>\n",
       "    <tr>\n",
       "      <th>4</th>\n",
       "      <td>32</td>\n",
       "      <td>male</td>\n",
       "      <td>28.880</td>\n",
       "      <td>0</td>\n",
       "      <td>no</td>\n",
       "      <td>northwest</td>\n",
       "      <td>3866.85520</td>\n",
       "    </tr>\n",
       "  </tbody>\n",
       "</table>\n",
       "</div>"
      ],
      "text/plain": [
       "   age     sex     bmi  children smoker     region      charges\n",
       "0   19  female  27.900         0    yes  southwest  16884.92400\n",
       "1   18    male  33.770         1     no  southeast   1725.55230\n",
       "2   28    male  33.000         3     no  southeast   4449.46200\n",
       "3   33    male  22.705         0     no  northwest  21984.47061\n",
       "4   32    male  28.880         0     no  northwest   3866.85520"
      ]
     },
     "execution_count": 2,
     "metadata": {},
     "output_type": "execute_result"
    }
   ],
   "source": [
    "## load the health data set. display info and head\n",
    "df = pd.read_csv(\"Data/insurance - insurance.csv\")\n",
    "df.info()\n",
    "df.head()"
   ]
  },
  {
   "cell_type": "markdown",
   "id": "dbf912bd",
   "metadata": {},
   "source": [
    "> No null data"
   ]
  },
  {
   "cell_type": "markdown",
   "id": "2f405c3d",
   "metadata": {},
   "source": [
    "## Q1 Do smokers have higher insurance charges than non-smokers?"
   ]
  },
  {
   "cell_type": "markdown",
   "id": "49a6a491",
   "metadata": {
    "heading_collapsed": true
   },
   "source": [
    "### 1.  State your Null Hypothesis and Alternative Hypothesis\n",
    "- $H_0$ (Null Hypothesis): There is no difference in insurance charges between smokers and non smokers. \n",
    "- $H_A$ (Alternative Hypothesis):  There is a significant difference in insurance charges between smokers and non smokers. \n"
   ]
  },
  {
   "cell_type": "markdown",
   "id": "21beae1a",
   "metadata": {},
   "source": [
    "### 2. Select the correct test according to the data type and number of samples\n",
    "\n",
    "- Type of Data? \n",
    " - Numeric - `Charges` \n",
    "- How many groups/samples? 2\n",
    "    - 2 smoker/non-smoker\n",
    "- Therefore, which test is appropriate? \n",
    "    - 2 Sample T-test\n",
    "\n"
   ]
  },
  {
   "cell_type": "markdown",
   "id": "bb37d7f3",
   "metadata": {},
   "source": [
    "## Visualize and Separate Data for hypothesis"
   ]
  },
  {
   "cell_type": "code",
   "execution_count": 15,
   "id": "86d6aa2e",
   "metadata": {},
   "outputs": [
    {
     "data": {
      "text/plain": [
       "count     1338.000000\n",
       "mean     13270.422265\n",
       "std      12110.011237\n",
       "min       1121.873900\n",
       "25%       4740.287150\n",
       "50%       9382.033000\n",
       "75%      16639.912515\n",
       "max      63770.428010\n",
       "Name: charges, dtype: float64"
      ]
     },
     "execution_count": 15,
     "metadata": {},
     "output_type": "execute_result"
    }
   ],
   "source": [
    "df[\"charges\"].describe()"
   ]
  },
  {
   "cell_type": "code",
   "execution_count": 32,
   "id": "9bd9b2a6",
   "metadata": {
    "scrolled": true
   },
   "outputs": [
    {
     "data": {
      "text/plain": [
       "no     1064\n",
       "yes     274\n",
       "Name: smoker, dtype: int64"
      ]
     },
     "execution_count": 32,
     "metadata": {},
     "output_type": "execute_result"
    }
   ],
   "source": [
    "df[\"smoker\"].value_counts()"
   ]
  },
  {
   "cell_type": "code",
   "execution_count": 33,
   "id": "cd68f683",
   "metadata": {},
   "outputs": [],
   "source": [
    "#Separate male and female data\n",
    "y_df = df[df[\"smoker\"]==\"yes\"]\n",
    "n_df = df[df[\"smoker\"]==\"no\"]"
   ]
  },
  {
   "cell_type": "code",
   "execution_count": 34,
   "id": "8fecf6d0",
   "metadata": {},
   "outputs": [
    {
     "data": {
      "text/plain": [
       "<AxesSubplot: xlabel='smoker', ylabel='charges'>"
      ]
     },
     "execution_count": 34,
     "metadata": {},
     "output_type": "execute_result"
    },
    {
     "data": {
      "image/png": "[encoded data removed]",
      "text/plain": [
       "<Figure size 640x480 with 1 Axes>"
      ]
     },
     "metadata": {},
     "output_type": "display_data"
    }
   ],
   "source": [
    "sns.barplot(data=df, x=\"smoker\", y=\"charges\")"
   ]
  },
  {
   "cell_type": "code",
   "execution_count": null,
   "id": "dd3c0c78",
   "metadata": {},
   "outputs": [],
   "source": []
  },
  {
   "cell_type": "markdown",
   "id": "3ab31186",
   "metadata": {},
   "source": [
    "### 3.  Test the assumptions of your selected test.\n",
    "-  No significant outliers\n",
    "-  Normality\n",
    "-  Equal Variance\n",
    " "
   ]
  },
  {
   "cell_type": "markdown",
   "id": "5687b9b4",
   "metadata": {},
   "source": [
    "#### Check for significant outliers.  Remove if present"
   ]
  },
  {
   "cell_type": "code",
   "execution_count": 35,
   "id": "6ba00ff8",
   "metadata": {
    "scrolled": true
   },
   "outputs": [
    {
     "data": {
      "text/plain": [
       "0"
      ]
     },
     "execution_count": 35,
     "metadata": {},
     "output_type": "execute_result"
    }
   ],
   "source": [
    "#Look at charges greater than 3 standard deviations from the mean for males\n",
    "y_outliers = np.abs(stats.zscore(y_df[\"charges\"])) > 3\n",
    "y_outliers.sum()"
   ]
  },
  {
   "cell_type": "code",
   "execution_count": 36,
   "id": "3f018bb8",
   "metadata": {},
   "outputs": [
    {
     "data": {
      "text/plain": [
       "24"
      ]
     },
     "execution_count": 36,
     "metadata": {},
     "output_type": "execute_result"
    }
   ],
   "source": [
    "#Look at charges greater than 3 standard deviations from the mean for females\n",
    "n_outliers = np.abs(stats.zscore(n_df[\"charges\"])) > 3\n",
    "n_outliers.sum()"
   ]
  },
  {
   "cell_type": "code",
   "execution_count": 37,
   "id": "9bf659b6",
   "metadata": {},
   "outputs": [],
   "source": [
    "#remove outliers\n",
    "n_df=n_df.loc[~n_outliers]"
   ]
  },
  {
   "cell_type": "markdown",
   "id": "43cc645a",
   "metadata": {},
   "source": [
    "#### Test for Normality\n",
    "\n"
   ]
  },
  {
   "cell_type": "code",
   "execution_count": 38,
   "id": "1fef5915",
   "metadata": {
    "scrolled": true
   },
   "outputs": [
    {
     "data": {
      "text/plain": [
       "5.564930630036463e-14"
      ]
     },
     "execution_count": 38,
     "metadata": {},
     "output_type": "execute_result"
    }
   ],
   "source": [
    "result = stats.normaltest(y_df['charges'])\n",
    "result.pvalue"
   ]
  },
  {
   "cell_type": "code",
   "execution_count": 39,
   "id": "1c00e901",
   "metadata": {},
   "outputs": [
    {
     "data": {
      "text/plain": [
       "274"
      ]
     },
     "execution_count": 39,
     "metadata": {},
     "output_type": "execute_result"
    }
   ],
   "source": [
    "len(y_df[\"charges\"])"
   ]
  },
  {
   "cell_type": "code",
   "execution_count": 40,
   "id": "9714a5bc",
   "metadata": {
    "scrolled": true
   },
   "outputs": [
    {
     "data": {
      "text/plain": [
       "2.6945416315543976e-36"
      ]
     },
     "execution_count": 40,
     "metadata": {},
     "output_type": "execute_result"
    }
   ],
   "source": [
    "result = stats.normaltest(n_df['charges'])\n",
    "result.pvalue"
   ]
  },
  {
   "cell_type": "code",
   "execution_count": 41,
   "id": "b3b08f7d",
   "metadata": {
    "scrolled": true
   },
   "outputs": [
    {
     "data": {
      "text/plain": [
       "1040"
      ]
     },
     "execution_count": 41,
     "metadata": {},
     "output_type": "execute_result"
    }
   ],
   "source": [
    "len(n_df[\"charges\"])"
   ]
  },
  {
   "cell_type": "markdown",
   "id": "22acb0ca",
   "metadata": {},
   "source": [
    ">With large enough datasets and low p-values we can disregard the assumption of normality"
   ]
  },
  {
   "cell_type": "markdown",
   "id": "b9ceda66",
   "metadata": {},
   "source": [
    "#### Test for equal variance"
   ]
  },
  {
   "cell_type": "code",
   "execution_count": 42,
   "id": "0c1851cd",
   "metadata": {},
   "outputs": [
    {
     "name": "stdout",
     "output_type": "stream",
     "text": [
      "LeveneResult(statistic=520.7468821724297, pvalue=2.4247238784347824e-97)\n",
      "The groups do NOT have equal variance.\n"
     ]
    }
   ],
   "source": [
    "## Use Levene's test for equal variance\n",
    "result = stats.levene(y_df[\"charges\"], n_df['charges'])\n",
    "print(result)\n",
    "## Use an if-else to help interpret the p-value\n",
    "if result.pvalue < .05:\n",
    "    print(f\"The groups do NOT have equal variance.\")\n",
    "else:\n",
    "    print(f\"The groups DO have equal variance.\")"
   ]
  },
  {
   "cell_type": "markdown",
   "id": "bdea6b1b",
   "metadata": {},
   "source": [
    "- We met the assumption of normality but did NOT meet the assumption of equal variance. \n",
    "- We will therefore run a Welch's t-test instead by adding `equal_var=False` to `stats.ttest_ind`"
   ]
  },
  {
   "cell_type": "markdown",
   "id": "39d01fbb",
   "metadata": {},
   "source": [
    "### 4.  Execute the selected test, or the alternative test (if you do not meet the assumptions)"
   ]
  },
  {
   "cell_type": "code",
   "execution_count": 44,
   "id": "015cffc1",
   "metadata": {
    "scrolled": true
   },
   "outputs": [
    {
     "name": "stdout",
     "output_type": "stream",
     "text": [
      "Ttest_indResult(statistic=33.732305987092516, pvalue=2.575322662587431e-104)\n"
     ]
    },
    {
     "data": {
      "text/plain": [
       "True"
      ]
     },
     "execution_count": 44,
     "metadata": {},
     "output_type": "execute_result"
    }
   ],
   "source": [
    "result = stats.ttest_ind(y_df[\"charges\"], n_df['charges'], equal_var=False)\n",
    "print(result)\n",
    "result.pvalue  < .05"
   ]
  },
  {
   "cell_type": "markdown",
   "id": "1b6b57ce",
   "metadata": {},
   "source": [
    "We had a p-value < .05 for our Welch's t-test. We reject the null hypothesis and support the alternative that: \\\n",
    "*There is a significant difference in insurance charges between smokers and non smokers.*"
   ]
  },
  {
   "cell_type": "markdown",
   "id": "d2ffcf4d",
   "metadata": {},
   "source": [
    "### 5. Interpret your p-value and reject or fail to reject your null hypothesis"
   ]
  },
  {
   "cell_type": "markdown",
   "id": "0d810d83",
   "metadata": {},
   "source": [
    "### 6. Show a supporting visualization that helps display the result"
   ]
  },
  {
   "cell_type": "markdown",
   "id": "ffe6864b",
   "metadata": {
    "heading_collapsed": true
   },
   "source": [
    "## Q2  Are men more likely to smoke than women?"
   ]
  },
  {
   "cell_type": "markdown",
   "id": "54ad6a04",
   "metadata": {
    "hidden": true
   },
   "source": [
    "- $H_0$ (Null Hypothesis): Men and Women are equally likely to smoke. \n",
    "- $H_A$ (Alternative Hypothesis):  There is a statistical difference in the number of men and women smokers. "
   ]
  },
  {
   "cell_type": "markdown",
   "id": "5e79dc25",
   "metadata": {
    "heading_collapsed": true
   },
   "source": [
    "## Q3. Do different regions have different charges, on average?"
   ]
  },
  {
   "cell_type": "markdown",
   "id": "662b779c",
   "metadata": {
    "hidden": true
   },
   "source": [
    "- $H_0$ (Null Hypothesis): Different regions do not have statistically different charges on average. \n",
    "- $H_A$ (Alternative Hypothesis):  Different regions have a statistical difference in average charges. "
   ]
  },
  {
   "cell_type": "code",
   "execution_count": null,
   "id": "2911dd3a",
   "metadata": {
    "hidden": true
   },
   "outputs": [],
   "source": []
  }
 ],
 "metadata": {
  "kernelspec": {
   "display_name": "Python (dojo-env)",
   "language": "python",
   "name": "dojo-env"
  },
  "language_info": {
   "codemirror_mode": {
    "name": "ipython",
    "version": 3
   },
   "file_extension": ".py",
   "mimetype": "text/x-python",
   "name": "python",
   "nbconvert_exporter": "python",
   "pygments_lexer": "ipython3",
   "version": "3.9.15"
  },
  "toc": {
   "base_numbering": 1,
   "nav_menu": {},
   "number_sections": false,
   "sideBar": true,
   "skip_h1_title": false,
   "title_cell": "Table of Contents",
   "title_sidebar": "Contents",
   "toc_cell": false,
   "toc_position": {},
   "toc_section_display": true,
   "toc_window_display": true
  }
 },
 "nbformat": 4,
 "nbformat_minor": 5
}

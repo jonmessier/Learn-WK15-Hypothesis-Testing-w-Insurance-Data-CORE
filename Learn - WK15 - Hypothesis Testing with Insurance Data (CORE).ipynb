{
 "cells": [
  {
   "cell_type": "markdown",
   "id": "a07e3c86",
   "metadata": {},
   "source": [
    "# Hypothesis Testing with Insurance Data (Core)\n",
    "Jon Messier \\\n",
    "3/9/2023\n",
    "\n",
    "For this assignment, we will be working with the [US Health Insurance Dataset](https://docs.google.com/spreadsheets/d/e/2PACX-1vQBN8DPW2rdiRrY34eEM53HAzakNGSRrw4ogI-j8HyCUrbqTB_z4CeIn2IvjLF-w_6sOe5pIlypJGAA/pub?output=csv) from Kaggle.\n",
    "\n",
    "We have been asked to use our hypothesis testing skills to answer the following questions:\n",
    "\n",
    "- Q1. Do smokers have higher insurance charges than non-smokers?\n",
    "- Q2. Are men more likely to smoke than women?\n",
    "- Q3. Do different regions have different charges, on average?\n",
    "\n",
    "\n",
    "For each question, make sure to:\n",
    "\n",
    "1.  State your Null Hypothesis and Alternative Hypothesis\n",
    "2.   Select the correct test according to the data type and number of samples\n",
    "3.   Test the assumptions of your selected test.\n",
    "4.  Execute the selected test, or the alternative test (if you do not meet the assumptions)\n",
    "5.   Interpret your p-value and reject or fail to reject your null hypothesis \n",
    "6.   Show a supporting visualization that helps display the result\n",
    "\n",
    "\n"
   ]
  },
  {
   "cell_type": "code",
   "execution_count": 1,
   "id": "2be7bcde",
   "metadata": {},
   "outputs": [],
   "source": [
    "import json\n",
    "import pandas as pd\n",
    "import numpy as np\n",
    "\n",
    "import matplotlib.pyplot as plt\n",
    "import seaborn as sns\n",
    "\n",
    "from scipy import stats\n",
    "import scipy"
   ]
  },
  {
   "cell_type": "code",
   "execution_count": 2,
   "id": "7c8ca64b",
   "metadata": {},
   "outputs": [
    {
     "name": "stdout",
     "output_type": "stream",
     "text": [
      "<class 'pandas.core.frame.DataFrame'>\n",
      "RangeIndex: 1338 entries, 0 to 1337\n",
      "Data columns (total 7 columns):\n",
      " #   Column    Non-Null Count  Dtype  \n",
      "---  ------    --------------  -----  \n",
      " 0   age       1338 non-null   int64  \n",
      " 1   sex       1338 non-null   object \n",
      " 2   bmi       1338 non-null   float64\n",
      " 3   children  1338 non-null   int64  \n",
      " 4   smoker    1338 non-null   object \n",
      " 5   region    1338 non-null   object \n",
      " 6   charges   1338 non-null   float64\n",
      "dtypes: float64(2), int64(2), object(3)\n",
      "memory usage: 73.3+ KB\n"
     ]
    },
    {
     "data": {
      "text/html": [
       "<div>\n",
       "<style scoped>\n",
       "    .dataframe tbody tr th:only-of-type {\n",
       "        vertical-align: middle;\n",
       "    }\n",
       "\n",
       "    .dataframe tbody tr th {\n",
       "        vertical-align: top;\n",
       "    }\n",
       "\n",
       "    .dataframe thead th {\n",
       "        text-align: right;\n",
       "    }\n",
       "</style>\n",
       "<table border=\"1\" class=\"dataframe\">\n",
       "  <thead>\n",
       "    <tr style=\"text-align: right;\">\n",
       "      <th></th>\n",
       "      <th>age</th>\n",
       "      <th>sex</th>\n",
       "      <th>bmi</th>\n",
       "      <th>children</th>\n",
       "      <th>smoker</th>\n",
       "      <th>region</th>\n",
       "      <th>charges</th>\n",
       "    </tr>\n",
       "  </thead>\n",
       "  <tbody>\n",
       "    <tr>\n",
       "      <th>0</th>\n",
       "      <td>19</td>\n",
       "      <td>female</td>\n",
       "      <td>27.900</td>\n",
       "      <td>0</td>\n",
       "      <td>yes</td>\n",
       "      <td>southwest</td>\n",
       "      <td>16884.92400</td>\n",
       "    </tr>\n",
       "    <tr>\n",
       "      <th>1</th>\n",
       "      <td>18</td>\n",
       "      <td>male</td>\n",
       "      <td>33.770</td>\n",
       "      <td>1</td>\n",
       "      <td>no</td>\n",
       "      <td>southeast</td>\n",
       "      <td>1725.55230</td>\n",
       "    </tr>\n",
       "    <tr>\n",
       "      <th>2</th>\n",
       "      <td>28</td>\n",
       "      <td>male</td>\n",
       "      <td>33.000</td>\n",
       "      <td>3</td>\n",
       "      <td>no</td>\n",
       "      <td>southeast</td>\n",
       "      <td>4449.46200</td>\n",
       "    </tr>\n",
       "    <tr>\n",
       "      <th>3</th>\n",
       "      <td>33</td>\n",
       "      <td>male</td>\n",
       "      <td>22.705</td>\n",
       "      <td>0</td>\n",
       "      <td>no</td>\n",
       "      <td>northwest</td>\n",
       "      <td>21984.47061</td>\n",
       "    </tr>\n",
       "    <tr>\n",
       "      <th>4</th>\n",
       "      <td>32</td>\n",
       "      <td>male</td>\n",
       "      <td>28.880</td>\n",
       "      <td>0</td>\n",
       "      <td>no</td>\n",
       "      <td>northwest</td>\n",
       "      <td>3866.85520</td>\n",
       "    </tr>\n",
       "  </tbody>\n",
       "</table>\n",
       "</div>"
      ],
      "text/plain": [
       "   age     sex     bmi  children smoker     region      charges\n",
       "0   19  female  27.900         0    yes  southwest  16884.92400\n",
       "1   18    male  33.770         1     no  southeast   1725.55230\n",
       "2   28    male  33.000         3     no  southeast   4449.46200\n",
       "3   33    male  22.705         0     no  northwest  21984.47061\n",
       "4   32    male  28.880         0     no  northwest   3866.85520"
      ]
     },
     "execution_count": 2,
     "metadata": {},
     "output_type": "execute_result"
    }
   ],
   "source": [
    "## load the health data set. display info and head\n",
    "df = pd.read_csv(\"Data/insurance - insurance.csv\")\n",
    "df.info()\n",
    "df.head()"
   ]
  },
  {
   "cell_type": "markdown",
   "id": "dbf912bd",
   "metadata": {},
   "source": [
    "> No null data"
   ]
  },
  {
   "cell_type": "markdown",
   "id": "2f405c3d",
   "metadata": {},
   "source": [
    "## Q1 Do smokers have higher insurance charges than non-smokers?"
   ]
  },
  {
   "cell_type": "markdown",
   "id": "49a6a491",
   "metadata": {
    "heading_collapsed": true
   },
   "source": [
    "### 1.  State your Null Hypothesis and Alternative Hypothesis\n",
    "- $H_0$ (Null Hypothesis): There is no difference in insurance charges between smokers and non smokers. \n",
    "- $H_A$ (Alternative Hypothesis):  There is a significant difference in insurance charges between smokers and non smokers. \n"
   ]
  },
  {
   "cell_type": "markdown",
   "id": "21beae1a",
   "metadata": {
    "heading_collapsed": true
   },
   "source": [
    "### 2. Select the correct test according to the data type and number of samples\n",
    "\n",
    "- Type of Data? \n",
    " - Numeric - `Charges` \n",
    "- How many groups/samples? 2\n",
    "    - 2 smoker/non-smoker\n",
    "- Therefore, which test is appropriate? \n",
    "    - 2 Sample T-test\n",
    "\n"
   ]
  },
  {
   "cell_type": "markdown",
   "id": "bb37d7f3",
   "metadata": {},
   "source": [
    "### Visualize and Separate Data for hypothesis"
   ]
  },
  {
   "cell_type": "code",
   "execution_count": 3,
   "id": "86d6aa2e",
   "metadata": {},
   "outputs": [
    {
     "data": {
      "text/plain": [
       "count     1338.000000\n",
       "mean     13270.422265\n",
       "std      12110.011237\n",
       "min       1121.873900\n",
       "25%       4740.287150\n",
       "50%       9382.033000\n",
       "75%      16639.912515\n",
       "max      63770.428010\n",
       "Name: charges, dtype: float64"
      ]
     },
     "execution_count": 3,
     "metadata": {},
     "output_type": "execute_result"
    }
   ],
   "source": [
    "df[\"charges\"].describe()"
   ]
  },
  {
   "cell_type": "code",
   "execution_count": 4,
   "id": "9bd9b2a6",
   "metadata": {
    "scrolled": true
   },
   "outputs": [
    {
     "data": {
      "text/plain": [
       "no     1064\n",
       "yes     274\n",
       "Name: smoker, dtype: int64"
      ]
     },
     "execution_count": 4,
     "metadata": {},
     "output_type": "execute_result"
    }
   ],
   "source": [
    "df[\"smoker\"].value_counts()"
   ]
  },
  {
   "cell_type": "code",
   "execution_count": 5,
   "id": "cd68f683",
   "metadata": {},
   "outputs": [],
   "source": [
    "#Separate y - smoker and n - non-smoker data\n",
    "y_df = df[df[\"smoker\"]==\"yes\"]\n",
    "n_df = df[df[\"smoker\"]==\"no\"]"
   ]
  },
  {
   "cell_type": "code",
   "execution_count": 6,
   "id": "8fecf6d0",
   "metadata": {},
   "outputs": [
    {
     "data": {
      "text/plain": [
       "<AxesSubplot: xlabel='smoker', ylabel='charges'>"
      ]
     },
     "execution_count": 6,
     "metadata": {},
     "output_type": "execute_result"
    },
    {
     "data": {
      "image/png": "[encoded data removed]",
      "text/plain": [
       "<Figure size 640x480 with 1 Axes>"
      ]
     },
     "metadata": {},
     "output_type": "display_data"
    }
   ],
   "source": [
    "sns.barplot(data=df, x=\"smoker\", y=\"charges\")"
   ]
  },
  {
   "cell_type": "code",
   "execution_count": 18,
   "id": "dd3c0c78",
   "metadata": {
    "scrolled": false
   },
   "outputs": [
    {
     "data": {
      "text/plain": [
       "<matplotlib.legend.Legend at 0x1ac20d26be0>"
      ]
     },
     "execution_count": 18,
     "metadata": {},
     "output_type": "execute_result"
    },
    {
     "data": {
      "image/png": "[encoded data removed]",
      "text/plain": [
       "<Figure size 1000x500 with 1 Axes>"
      ]
     },
     "metadata": {},
     "output_type": "display_data"
    }
   ],
   "source": [
    "## Visualizing mean quantities sold\n",
    "fig, ax = plt.subplots(figsize= (10,5), constrained_layout=True);\n",
    "\n",
    "# Histogram\n",
    "ax = sns.histplot(data=y_df, x='charges',fill=True,kde=True,\n",
    "                  stat='density',common_norm=False,ax=ax, label=\"Smoker\");\n",
    "ax = sns.histplot(data=n_df, x='charges',fill=True,kde=True,\n",
    "                  stat='density',common_norm=False,ax=ax, label=\"Non Smoker\");\n",
    "\n",
    "ax.axvline(np.mean(y_df['charges']), ls='--',lw=3, \n",
    "           label=f\"Smoker (Mean={np.mean(y_df['charges']):.2f})\");\n",
    "ax.axvline(np.mean( n_df['charges']), ls='--',lw=3, \n",
    "           label=f\"Non Smoker (Mean={np.mean(n_df['charges']):.2f})\", color ='orange');\n",
    "\n",
    "ax.legend(prop={\"size\":14}, loc='upper right')#bbox_to_anchor=[1,1]);\n",
    "\n"
   ]
  },
  {
   "cell_type": "code",
   "execution_count": 19,
   "id": "1b6f891d",
   "metadata": {},
   "outputs": [],
   "source": [
    "## loop to take 1000 samples of and calculate the mean of each sample\n",
    "np.random.seed(42)\n",
    "sample_means_y = [] # smoker\n",
    "sample_means_n = [] # non smoker\n",
    "for i in range(1000):   \n",
    "    sample = np.random.choice(y_df['charges'], size=30, replace=False)\n",
    "    sample2 = np.random.choice(n_df['charges'], size=30, replace=False)\n",
    "    sample_means_y.append(np.mean(sample))\n",
    "    sample_means_n.append(np.mean(sample2))"
   ]
  },
  {
   "cell_type": "code",
   "execution_count": 21,
   "id": "25c7c5a7",
   "metadata": {
    "scrolled": false
   },
   "outputs": [
    {
     "data": {
      "text/plain": [
       "<matplotlib.legend.Legend at 0x1ac21165310>"
      ]
     },
     "execution_count": 21,
     "metadata": {},
     "output_type": "execute_result"
    },
    {
     "data": {
      "image/png": "[encoded data removed]",
      "text/plain": [
       "<Figure size 1000x500 with 1 Axes>"
      ]
     },
     "metadata": {},
     "output_type": "display_data"
    }
   ],
   "source": [
    "## Visualizing  sample means\n",
    "fig, ax = plt.subplots(figsize= (10,5), constrained_layout=True);\n",
    "\n",
    "\n",
    "# Histogram\n",
    "ax = sns.histplot(data=sample_means_y,fill=True,kde=True,\n",
    "                  stat='density',common_norm=False,ax=ax, label=\"Smoker\");\n",
    "ax = sns.histplot(data=sample_means_n, fill=True,kde=True,\n",
    "                  stat='density',common_norm=False,ax=ax, label=\"Non Smoker\");\n",
    "\n",
    "ax.axvline(np.mean(sample_means_y), ls='--',lw=3, \n",
    "           label=f\"Smoker (Mean={np.mean(sample_means_y):.2f})\");\n",
    "\n",
    "ax.axvline(np.mean(sample_means_n), ls='--',lw=3, color='orange',\n",
    "           label=f\"Non Smoker (Mean={np.mean(sample_means_n):.2f})\");\n",
    "\n",
    "ax.legend(prop={\"size\":14}, loc='upper right')#bbox_to_anchor=[1,1]);\n",
    "\n"
   ]
  },
  {
   "cell_type": "markdown",
   "id": "6ca4fe9f",
   "metadata": {},
   "source": [
    "Using Central Limit Theorem for our data we can conclude that the mean charges are different for smokers and non-smokers and that the mean for smokers is greater than non-smokers.  This is our null hypothesis"
   ]
  },
  {
   "cell_type": "markdown",
   "id": "3ab31186",
   "metadata": {
    "heading_collapsed": true
   },
   "source": [
    "### 3.  Test the assumptions of your selected test.\n",
    "-  No significant outliers\n",
    "-  Normality\n",
    "-  Equal Variance\n",
    " "
   ]
  },
  {
   "cell_type": "markdown",
   "id": "5687b9b4",
   "metadata": {
    "heading_collapsed": true,
    "hidden": true
   },
   "source": [
    "#### Check for significant outliers.  Remove if present"
   ]
  },
  {
   "cell_type": "code",
   "execution_count": 8,
   "id": "6ba00ff8",
   "metadata": {
    "hidden": true,
    "scrolled": true
   },
   "outputs": [
    {
     "data": {
      "text/plain": [
       "0"
      ]
     },
     "execution_count": 8,
     "metadata": {},
     "output_type": "execute_result"
    }
   ],
   "source": [
    "#Look at charges greater than 3 standard deviations from the mean for smokers\n",
    "y_outliers = np.abs(stats.zscore(y_df[\"charges\"])) > 3\n",
    "y_outliers.sum()"
   ]
  },
  {
   "cell_type": "code",
   "execution_count": 9,
   "id": "3f018bb8",
   "metadata": {
    "hidden": true
   },
   "outputs": [
    {
     "data": {
      "text/plain": [
       "24"
      ]
     },
     "execution_count": 9,
     "metadata": {},
     "output_type": "execute_result"
    }
   ],
   "source": [
    "#Look at charges greater than 3 standard deviations from the mean for non-smokers\n",
    "n_outliers = np.abs(stats.zscore(n_df[\"charges\"])) > 3\n",
    "n_outliers.sum()"
   ]
  },
  {
   "cell_type": "code",
   "execution_count": 10,
   "id": "9bf659b6",
   "metadata": {
    "hidden": true
   },
   "outputs": [],
   "source": [
    "#remove outliers\n",
    "n_df=n_df.loc[~n_outliers]"
   ]
  },
  {
   "cell_type": "markdown",
   "id": "43cc645a",
   "metadata": {
    "heading_collapsed": true,
    "hidden": true
   },
   "source": [
    "#### Test for Normality\n",
    "\n"
   ]
  },
  {
   "cell_type": "code",
   "execution_count": 11,
   "id": "1fef5915",
   "metadata": {
    "hidden": true,
    "scrolled": true
   },
   "outputs": [
    {
     "data": {
      "text/plain": [
       "5.564930630036463e-14"
      ]
     },
     "execution_count": 11,
     "metadata": {},
     "output_type": "execute_result"
    }
   ],
   "source": [
    "result = stats.normaltest(y_df['charges'])\n",
    "result.pvalue"
   ]
  },
  {
   "cell_type": "code",
   "execution_count": 12,
   "id": "1c00e901",
   "metadata": {
    "hidden": true
   },
   "outputs": [
    {
     "data": {
      "text/plain": [
       "274"
      ]
     },
     "execution_count": 12,
     "metadata": {},
     "output_type": "execute_result"
    }
   ],
   "source": [
    "len(y_df[\"charges\"])"
   ]
  },
  {
   "cell_type": "code",
   "execution_count": 13,
   "id": "9714a5bc",
   "metadata": {
    "hidden": true,
    "scrolled": true
   },
   "outputs": [
    {
     "data": {
      "text/plain": [
       "2.6945416315543976e-36"
      ]
     },
     "execution_count": 13,
     "metadata": {},
     "output_type": "execute_result"
    }
   ],
   "source": [
    "result = stats.normaltest(n_df['charges'])\n",
    "result.pvalue"
   ]
  },
  {
   "cell_type": "code",
   "execution_count": 14,
   "id": "b3b08f7d",
   "metadata": {
    "hidden": true,
    "scrolled": true
   },
   "outputs": [
    {
     "data": {
      "text/plain": [
       "1040"
      ]
     },
     "execution_count": 14,
     "metadata": {},
     "output_type": "execute_result"
    }
   ],
   "source": [
    "len(n_df[\"charges\"])"
   ]
  },
  {
   "cell_type": "markdown",
   "id": "22acb0ca",
   "metadata": {
    "hidden": true
   },
   "source": [
    "> Our p-values for both groups are well below 0.05 which means we REJECT the null hypothesis. We can conclude that our data is NOT normally distributed. However, our sample size is large enough to proceed without satisfying this assumption. For an independent t_test, sample sizes of 15 per group are considered sufficient.\n"
   ]
  },
  {
   "cell_type": "markdown",
   "id": "b9ceda66",
   "metadata": {
    "heading_collapsed": true,
    "hidden": true
   },
   "source": [
    "#### Test for equal variance"
   ]
  },
  {
   "cell_type": "code",
   "execution_count": 15,
   "id": "0c1851cd",
   "metadata": {
    "hidden": true
   },
   "outputs": [
    {
     "name": "stdout",
     "output_type": "stream",
     "text": [
      "LeveneResult(statistic=520.7468821724297, pvalue=2.4247238784347824e-97)\n",
      "The groups do NOT have equal variance.\n"
     ]
    }
   ],
   "source": [
    "## Use Levene's test for equal variance\n",
    "result = stats.levene(y_df[\"charges\"], n_df['charges'])\n",
    "print(result)\n",
    "## Use an if-else to help interpret the p-value\n",
    "if result.pvalue < .05:\n",
    "    print(f\"The groups do NOT have equal variance.\")\n",
    "else:\n",
    "    print(f\"The groups DO have equal variance.\")"
   ]
  },
  {
   "cell_type": "markdown",
   "id": "bdea6b1b",
   "metadata": {
    "hidden": true
   },
   "source": [
    "- We met the assumption of normality but did NOT meet the assumption of equal variance. \n",
    "- We will therefore run a Welch's t-test instead by adding `equal_var=False` to `stats.ttest_ind`"
   ]
  },
  {
   "cell_type": "markdown",
   "id": "39d01fbb",
   "metadata": {
    "heading_collapsed": true
   },
   "source": [
    "### 4.  Execute the selected test, or the alternative test (if you do not meet the assumptions)"
   ]
  },
  {
   "cell_type": "code",
   "execution_count": 16,
   "id": "015cffc1",
   "metadata": {
    "hidden": true,
    "scrolled": true
   },
   "outputs": [
    {
     "name": "stdout",
     "output_type": "stream",
     "text": [
      "Ttest_indResult(statistic=33.732305987092516, pvalue=2.575322662587431e-104)\n"
     ]
    },
    {
     "data": {
      "text/plain": [
       "True"
      ]
     },
     "execution_count": 16,
     "metadata": {},
     "output_type": "execute_result"
    }
   ],
   "source": [
    "result = stats.ttest_ind(y_df[\"charges\"], n_df['charges'], equal_var=False)\n",
    "print(result)\n",
    "result.pvalue  < .05"
   ]
  },
  {
   "cell_type": "markdown",
   "id": "d2ffcf4d",
   "metadata": {
    "heading_collapsed": true
   },
   "source": [
    "### 5. Interpret your p-value and reject or fail to reject your null hypothesis"
   ]
  },
  {
   "cell_type": "markdown",
   "id": "a3887fc8",
   "metadata": {
    "hidden": true
   },
   "source": [
    "We had a p-value < .05 for our Welch's t-test. We reject the null hypothesis and support the alternative that: \\\n",
    "*There is a significant difference in insurance charges between smokers and non smokers.*"
   ]
  },
  {
   "cell_type": "markdown",
   "id": "0d810d83",
   "metadata": {
    "heading_collapsed": true
   },
   "source": [
    "### 6. Show a supporting visualization that helps display the result\n",
    "See Sample Means display "
   ]
  },
  {
   "cell_type": "markdown",
   "id": "ffe6864b",
   "metadata": {},
   "source": [
    "## Q2  Are men more likely to smoke than women?"
   ]
  },
  {
   "cell_type": "markdown",
   "id": "709b3006",
   "metadata": {
    "heading_collapsed": true
   },
   "source": [
    "### 1.  State your Null Hypothesis and Alternative Hypothesis\n",
    "- $H_0$ (Null Hypothesis): There number of men and women smokers is equally distributed. \n",
    "- $H_A$ (Alternative Hypothesis):  There is a significant difference in the number of men and women smokers. \n"
   ]
  },
  {
   "cell_type": "markdown",
   "id": "770870a1",
   "metadata": {
    "heading_collapsed": true
   },
   "source": [
    "### 2. Select the correct test according to the data type and number of samples\n",
    "\n",
    "- Type of Data? \n",
    " - categorical - `smoker` \n",
    "- How many groups/samples? 2\n",
    "    - 2 male/female\n",
    "- Therefore, which test is appropriate? \n",
    "    - Chi squared test\n",
    "\n"
   ]
  },
  {
   "cell_type": "markdown",
   "id": "92856ddd",
   "metadata": {
    "heading_collapsed": true
   },
   "source": [
    "### Visualize and Separate Data for hypothesis"
   ]
  },
  {
   "cell_type": "code",
   "execution_count": 39,
   "id": "2aa45761",
   "metadata": {
    "hidden": true
   },
   "outputs": [],
   "source": [
    "m = df[(df[\"smoker\"]=='yes') &(df[\"sex\"]==\"male\")]\n",
    "f = df[(df[\"smoker\"]=='yes') &(df[\"sex\"]==\"female\")]"
   ]
  },
  {
   "cell_type": "code",
   "execution_count": 44,
   "id": "ca2c55f5",
   "metadata": {
    "hidden": true,
    "scrolled": false
   },
   "outputs": [
    {
     "data": {
      "image/png": "[encoded data removed]",
      "text/plain": [
       "<Figure size 640x480 with 1 Axes>"
      ]
     },
     "metadata": {},
     "output_type": "display_data"
    }
   ],
   "source": [
    "## Visualizing quantities of smokers by sex\n",
    "ax = sns.countplot(data = df, x='smoker', hue='sex')"
   ]
  },
  {
   "cell_type": "code",
   "execution_count": 45,
   "id": "bdbc3355",
   "metadata": {
    "hidden": true,
    "scrolled": true
   },
   "outputs": [
    {
     "data": {
      "text/html": [
       "<div>\n",
       "<style scoped>\n",
       "    .dataframe tbody tr th:only-of-type {\n",
       "        vertical-align: middle;\n",
       "    }\n",
       "\n",
       "    .dataframe tbody tr th {\n",
       "        vertical-align: top;\n",
       "    }\n",
       "\n",
       "    .dataframe thead th {\n",
       "        text-align: right;\n",
       "    }\n",
       "</style>\n",
       "<table border=\"1\" class=\"dataframe\">\n",
       "  <thead>\n",
       "    <tr style=\"text-align: right;\">\n",
       "      <th>smoker</th>\n",
       "      <th>no</th>\n",
       "      <th>yes</th>\n",
       "    </tr>\n",
       "    <tr>\n",
       "      <th>sex</th>\n",
       "      <th></th>\n",
       "      <th></th>\n",
       "    </tr>\n",
       "  </thead>\n",
       "  <tbody>\n",
       "    <tr>\n",
       "      <th>female</th>\n",
       "      <td>547</td>\n",
       "      <td>115</td>\n",
       "    </tr>\n",
       "    <tr>\n",
       "      <th>male</th>\n",
       "      <td>517</td>\n",
       "      <td>159</td>\n",
       "    </tr>\n",
       "  </tbody>\n",
       "</table>\n",
       "</div>"
      ],
      "text/plain": [
       "smoker   no  yes\n",
       "sex             \n",
       "female  547  115\n",
       "male    517  159"
      ]
     },
     "execution_count": 45,
     "metadata": {},
     "output_type": "execute_result"
    }
   ],
   "source": [
    "# calculate the contingency table with pd.cross-tab\n",
    "table = pd.crosstab(df['sex'], df['smoker'])\n",
    "table"
   ]
  },
  {
   "cell_type": "code",
   "execution_count": 46,
   "id": "7e4f1386",
   "metadata": {
    "hidden": true
   },
   "outputs": [
    {
     "name": "stdout",
     "output_type": "stream",
     "text": [
      "0.006548143503580696\n"
     ]
    },
    {
     "data": {
      "text/plain": [
       "True"
      ]
     },
     "execution_count": 46,
     "metadata": {},
     "output_type": "execute_result"
    }
   ],
   "source": [
    "# Run the Test and Save the Output\n",
    "result = stats.chi2_contingency(table)\n",
    "chi2, p, deg_free, expected_vals = result #this labels the results\n",
    "\n",
    "# What was our p-value?\n",
    "print(p)\n",
    "p<.05"
   ]
  },
  {
   "cell_type": "markdown",
   "id": "2e57928a",
   "metadata": {
    "hidden": true
   },
   "source": [
    "Our P-value is less than 0.05. We thus Reject the null hypothesis and conclude that there is a relationship between sex and the number of smokers"
   ]
  },
  {
   "cell_type": "markdown",
   "id": "415d809b",
   "metadata": {
    "heading_collapsed": true
   },
   "source": [
    "### 3.  Test the assumptions of your selected test.\n",
    "- There are two categorical variables (ordinal or nominal)\n",
    "- The outcomes are independent"
   ]
  },
  {
   "cell_type": "markdown",
   "id": "dbc8e17f",
   "metadata": {
    "hidden": true
   },
   "source": [
    "#### Check for significant outliers.  Remove if present\n",
    "N/A"
   ]
  },
  {
   "cell_type": "markdown",
   "id": "02171d93",
   "metadata": {
    "hidden": true
   },
   "source": [
    "#### Test for Normality\n",
    "\n",
    "N/A"
   ]
  },
  {
   "cell_type": "markdown",
   "id": "ffa97480",
   "metadata": {
    "heading_collapsed": true,
    "hidden": true
   },
   "source": [
    "#### Test for equal variance\n",
    "N/A"
   ]
  },
  {
   "cell_type": "markdown",
   "id": "51dcd52c",
   "metadata": {
    "heading_collapsed": true
   },
   "source": [
    "### 4.  Execute the selected test, or the alternative test (if you do not meet the assumptions)"
   ]
  },
  {
   "cell_type": "code",
   "execution_count": 16,
   "id": "75131d48",
   "metadata": {
    "hidden": true,
    "scrolled": true
   },
   "outputs": [
    {
     "name": "stdout",
     "output_type": "stream",
     "text": [
      "Ttest_indResult(statistic=33.732305987092516, pvalue=2.575322662587431e-104)\n"
     ]
    },
    {
     "data": {
      "text/plain": [
       "True"
      ]
     },
     "execution_count": 16,
     "metadata": {},
     "output_type": "execute_result"
    }
   ],
   "source": [
    "result = stats.ttest_ind(y_df[\"charges\"], n_df['charges'], equal_var=False)\n",
    "print(result)\n",
    "result.pvalue  < .05"
   ]
  },
  {
   "cell_type": "markdown",
   "id": "fb2374c2",
   "metadata": {
    "heading_collapsed": true
   },
   "source": [
    "### 5. Interpret your p-value and reject or fail to reject your null hypothesis"
   ]
  },
  {
   "cell_type": "code",
   "execution_count": 45,
   "id": "be9bb7e9",
   "metadata": {
    "hidden": true,
    "scrolled": true
   },
   "outputs": [
    {
     "data": {
      "text/html": [
       "<div>\n",
       "<style scoped>\n",
       "    .dataframe tbody tr th:only-of-type {\n",
       "        vertical-align: middle;\n",
       "    }\n",
       "\n",
       "    .dataframe tbody tr th {\n",
       "        vertical-align: top;\n",
       "    }\n",
       "\n",
       "    .dataframe thead th {\n",
       "        text-align: right;\n",
       "    }\n",
       "</style>\n",
       "<table border=\"1\" class=\"dataframe\">\n",
       "  <thead>\n",
       "    <tr style=\"text-align: right;\">\n",
       "      <th>smoker</th>\n",
       "      <th>no</th>\n",
       "      <th>yes</th>\n",
       "    </tr>\n",
       "    <tr>\n",
       "      <th>sex</th>\n",
       "      <th></th>\n",
       "      <th></th>\n",
       "    </tr>\n",
       "  </thead>\n",
       "  <tbody>\n",
       "    <tr>\n",
       "      <th>female</th>\n",
       "      <td>547</td>\n",
       "      <td>115</td>\n",
       "    </tr>\n",
       "    <tr>\n",
       "      <th>male</th>\n",
       "      <td>517</td>\n",
       "      <td>159</td>\n",
       "    </tr>\n",
       "  </tbody>\n",
       "</table>\n",
       "</div>"
      ],
      "text/plain": [
       "smoker   no  yes\n",
       "sex             \n",
       "female  547  115\n",
       "male    517  159"
      ]
     },
     "execution_count": 45,
     "metadata": {},
     "output_type": "execute_result"
    }
   ],
   "source": [
    "# calculate the contingency table with pd.cross-tab\n",
    "table = pd.crosstab(df['sex'], df['smoker'])\n",
    "table"
   ]
  },
  {
   "cell_type": "code",
   "execution_count": 46,
   "id": "ee124802",
   "metadata": {
    "hidden": true
   },
   "outputs": [
    {
     "name": "stdout",
     "output_type": "stream",
     "text": [
      "0.006548143503580696\n"
     ]
    },
    {
     "data": {
      "text/plain": [
       "True"
      ]
     },
     "execution_count": 46,
     "metadata": {},
     "output_type": "execute_result"
    }
   ],
   "source": [
    "# Run the Test and Save the Output\n",
    "result = stats.chi2_contingency(table)\n",
    "chi2, p, deg_free, expected_vals = result #this labels the results\n",
    "\n",
    "# What was our p-value?\n",
    "print(p)\n",
    "p<.05"
   ]
  },
  {
   "cell_type": "markdown",
   "id": "808231e8",
   "metadata": {
    "hidden": true
   },
   "source": [
    "Our P-value is less than 0.05. We thus Reject the null hypothesis and conclude that there is a relationship between sex and the number of smokers"
   ]
  },
  {
   "cell_type": "markdown",
   "id": "88594700",
   "metadata": {
    "heading_collapsed": true
   },
   "source": [
    "### 6. Show a supporting visualization that helps display the result\n"
   ]
  },
  {
   "cell_type": "markdown",
   "id": "54ad6a04",
   "metadata": {
    "hidden": true
   },
   "source": []
  },
  {
   "cell_type": "markdown",
   "id": "5e79dc25",
   "metadata": {},
   "source": [
    "## Q3. Do different regions have different charges, on average?"
   ]
  },
  {
   "cell_type": "markdown",
   "id": "88e41daa",
   "metadata": {
    "heading_collapsed": true
   },
   "source": [
    "### 1.  State your Null Hypothesis and Alternative Hypothesis\n",
    "- $H_0$ (Null Hypothesis): Different regions do not have statistically different charges on average. \n",
    "\n",
    "- $H_A$ (Alternative Hypothesis):  Different regions have a statistical difference in average charges. \n"
   ]
  },
  {
   "cell_type": "markdown",
   "id": "00d230c8",
   "metadata": {
    "heading_collapsed": true
   },
   "source": [
    "### 2. Select the correct test according to the data type and number of samples\n",
    "\n",
    "- Type of Data? \n",
    " - numerical - `charges.mean()` \n",
    "- How many groups/samples? multiple\n",
    "    - `regions`\n",
    "- Therefore, which test is appropriate? \n",
    "    - ANOVA test\n",
    "\n"
   ]
  },
  {
   "cell_type": "markdown",
   "id": "22504975",
   "metadata": {},
   "source": [
    "### Visualize and Separate Data for hypothesis"
   ]
  },
  {
   "cell_type": "markdown",
   "id": "d6964443",
   "metadata": {},
   "source": []
  },
  {
   "cell_type": "markdown",
   "id": "8c075ce3",
   "metadata": {},
   "source": [
    "### 3.  Test the assumptions of your selected test.\n",
    "- Normality\n",
    "- Equal variance\n",
    "- No significant outliers"
   ]
  },
  {
   "cell_type": "markdown",
   "id": "aeead7a0",
   "metadata": {},
   "source": [
    "#### No significant outliers"
   ]
  },
  {
   "cell_type": "code",
   "execution_count": 48,
   "id": "8c2da74e",
   "metadata": {},
   "outputs": [
    {
     "data": {
      "text/plain": [
       "array(['southwest', 'southeast', 'northwest', 'northeast'], dtype=object)"
      ]
     },
     "execution_count": 48,
     "metadata": {},
     "output_type": "execute_result"
    }
   ],
   "source": [
    "df['region'].unique()"
   ]
  },
  {
   "cell_type": "code",
   "execution_count": 51,
   "id": "02a35c20",
   "metadata": {
    "scrolled": true
   },
   "outputs": [],
   "source": [
    "sw = df[df['region']=='southwest']\n",
    "se = df[df['region']=='southeast']\n",
    "nw = df[df['region']=='northwest']\n",
    "ne = df[df['region']=='northeast']"
   ]
  },
  {
   "cell_type": "code",
   "execution_count": 53,
   "id": "f6ca04c7",
   "metadata": {
    "scrolled": true
   },
   "outputs": [
    {
     "data": {
      "text/plain": [
       "<AxesSubplot: xlabel='region', ylabel='charges'>"
      ]
     },
     "execution_count": 53,
     "metadata": {},
     "output_type": "execute_result"
    },
    {
     "data": {
      "image/png": "[encoded data removed]",
      "text/plain": [
       "<Figure size 640x480 with 1 Axes>"
      ]
     },
     "metadata": {},
     "output_type": "display_data"
    }
   ],
   "source": [
    "sns.barplot(data= df, x='region', y='charges')"
   ]
  },
  {
   "cell_type": "code",
   "execution_count": 56,
   "id": "7f284d82",
   "metadata": {},
   "outputs": [
    {
     "data": {
      "text/plain": [
       "dict_keys(['southwest', 'southeast', 'northwest', 'northeast'])"
      ]
     },
     "execution_count": 56,
     "metadata": {},
     "output_type": "execute_result"
    }
   ],
   "source": [
    "## Create groups dictionary. There are only 4 groups, but this is even more helpful when there are many groups\n",
    "groups = {}\n",
    "## Loop through all unique categories\n",
    "for i in df['region'].unique():\n",
    "    ## Get series for group and rename\n",
    "    data = df.loc[df['region']==i,'charges'].copy()\n",
    "    \n",
    "    # save into the dictionary\n",
    "    groups[i] = data\n",
    "groups.keys()"
   ]
  },
  {
   "cell_type": "markdown",
   "id": "45483519",
   "metadata": {},
   "source": [
    "#### Normality Test"
   ]
  },
  {
   "cell_type": "code",
   "execution_count": 57,
   "id": "e37e4522",
   "metadata": {
    "scrolled": true
   },
   "outputs": [
    {
     "data": {
      "text/html": [
       "<div>\n",
       "<style scoped>\n",
       "    .dataframe tbody tr th:only-of-type {\n",
       "        vertical-align: middle;\n",
       "    }\n",
       "\n",
       "    .dataframe tbody tr th {\n",
       "        vertical-align: top;\n",
       "    }\n",
       "\n",
       "    .dataframe thead th {\n",
       "        text-align: right;\n",
       "    }\n",
       "</style>\n",
       "<table border=\"1\" class=\"dataframe\">\n",
       "  <thead>\n",
       "    <tr style=\"text-align: right;\">\n",
       "      <th></th>\n",
       "      <th>n</th>\n",
       "      <th>p</th>\n",
       "      <th>test stat</th>\n",
       "    </tr>\n",
       "  </thead>\n",
       "  <tbody>\n",
       "    <tr>\n",
       "      <th>southwest</th>\n",
       "      <td>325.0</td>\n",
       "      <td>6.125298e-23</td>\n",
       "      <td>102.294059</td>\n",
       "    </tr>\n",
       "    <tr>\n",
       "      <th>southeast</th>\n",
       "      <td>364.0</td>\n",
       "      <td>4.953297e-15</td>\n",
       "      <td>65.877446</td>\n",
       "    </tr>\n",
       "    <tr>\n",
       "      <th>northwest</th>\n",
       "      <td>325.0</td>\n",
       "      <td>5.184209e-24</td>\n",
       "      <td>107.232850</td>\n",
       "    </tr>\n",
       "    <tr>\n",
       "      <th>northeast</th>\n",
       "      <td>324.0</td>\n",
       "      <td>1.455431e-19</td>\n",
       "      <td>86.747629</td>\n",
       "    </tr>\n",
       "  </tbody>\n",
       "</table>\n",
       "</div>"
      ],
      "text/plain": [
       "               n             p   test stat\n",
       "southwest  325.0  6.125298e-23  102.294059\n",
       "southeast  364.0  4.953297e-15   65.877446\n",
       "northwest  325.0  5.184209e-24  107.232850\n",
       "northeast  324.0  1.455431e-19   86.747629"
      ]
     },
     "execution_count": 57,
     "metadata": {},
     "output_type": "execute_result"
    }
   ],
   "source": [
    "## Running normal test on each group and confirming there are >20 in each group\n",
    "norm_results = {}\n",
    "for i, data in groups.items():\n",
    "    stat, p = stats.normaltest(data)\n",
    "    ## save the p val, test statistic, and the size of the group\n",
    "    norm_results[i] = {'n': len(data),\n",
    "                             'p':p,\n",
    "                             'test stat':stat,}\n",
    "## convert to a dataframe\n",
    "norm_results_df = pd.DataFrame(norm_results).T\n",
    "norm_results_df"
   ]
  },
  {
   "cell_type": "code",
   "execution_count": 58,
   "id": "ce139d71",
   "metadata": {},
   "outputs": [
    {
     "data": {
      "text/html": [
       "<div>\n",
       "<style scoped>\n",
       "    .dataframe tbody tr th:only-of-type {\n",
       "        vertical-align: middle;\n",
       "    }\n",
       "\n",
       "    .dataframe tbody tr th {\n",
       "        vertical-align: top;\n",
       "    }\n",
       "\n",
       "    .dataframe thead th {\n",
       "        text-align: right;\n",
       "    }\n",
       "</style>\n",
       "<table border=\"1\" class=\"dataframe\">\n",
       "  <thead>\n",
       "    <tr style=\"text-align: right;\">\n",
       "      <th></th>\n",
       "      <th>n</th>\n",
       "      <th>p</th>\n",
       "      <th>test stat</th>\n",
       "      <th>sig</th>\n",
       "    </tr>\n",
       "  </thead>\n",
       "  <tbody>\n",
       "    <tr>\n",
       "      <th>southwest</th>\n",
       "      <td>325.0</td>\n",
       "      <td>6.125298e-23</td>\n",
       "      <td>102.294059</td>\n",
       "      <td>True</td>\n",
       "    </tr>\n",
       "    <tr>\n",
       "      <th>southeast</th>\n",
       "      <td>364.0</td>\n",
       "      <td>4.953297e-15</td>\n",
       "      <td>65.877446</td>\n",
       "      <td>True</td>\n",
       "    </tr>\n",
       "    <tr>\n",
       "      <th>northwest</th>\n",
       "      <td>325.0</td>\n",
       "      <td>5.184209e-24</td>\n",
       "      <td>107.232850</td>\n",
       "      <td>True</td>\n",
       "    </tr>\n",
       "    <tr>\n",
       "      <th>northeast</th>\n",
       "      <td>324.0</td>\n",
       "      <td>1.455431e-19</td>\n",
       "      <td>86.747629</td>\n",
       "      <td>True</td>\n",
       "    </tr>\n",
       "  </tbody>\n",
       "</table>\n",
       "</div>"
      ],
      "text/plain": [
       "               n             p   test stat   sig\n",
       "southwest  325.0  6.125298e-23  102.294059  True\n",
       "southeast  364.0  4.953297e-15   65.877446  True\n",
       "northwest  325.0  5.184209e-24  107.232850  True\n",
       "northeast  324.0  1.455431e-19   86.747629  True"
      ]
     },
     "execution_count": 58,
     "metadata": {},
     "output_type": "execute_result"
    }
   ],
   "source": [
    "### checking sig with pandas \n",
    "norm_results_df['sig'] = norm_results_df['p'] < .05 \n",
    "norm_results_df"
   ]
  },
  {
   "cell_type": "markdown",
   "id": "c84b8a91",
   "metadata": {},
   "source": [
    "Each region has a p-value less than $\\alpha$.  We must REJECT the null hypothesis for normal distribution, therefore our charges are not normally distributed.  However, our group sizes are significantly large such that we can ignore this assumption based on the Central Limit Theorem.  "
   ]
  },
  {
   "cell_type": "markdown",
   "id": "e49304cf",
   "metadata": {},
   "source": [
    "#### Test for Equal Variance"
   ]
  },
  {
   "cell_type": "code",
   "execution_count": 59,
   "id": "61e0b3b6",
   "metadata": {},
   "outputs": [
    {
     "data": {
      "text/plain": [
       "LeveneResult(statistic=5.559966758410606, pvalue=0.0008610590250786703)"
      ]
     },
     "execution_count": 59,
     "metadata": {},
     "output_type": "execute_result"
    }
   ],
   "source": [
    "# with the * operator \n",
    "stats.levene(*groups.values())"
   ]
  },
  {
   "cell_type": "markdown",
   "id": "c4f96ca3",
   "metadata": {},
   "source": [
    "Our p<$\\alpha$, thus we must REJECT the null hypothesis.  We cannot assume equal variance amongst regions."
   ]
  },
  {
   "cell_type": "markdown",
   "id": "a68b823e",
   "metadata": {},
   "source": [
    "### 4.  Execute the selected test, or the alternative test (if you do not meet the assumptions)"
   ]
  },
  {
   "cell_type": "code",
   "execution_count": 61,
   "id": "3cee9b9c",
   "metadata": {},
   "outputs": [
    {
     "data": {
      "text/plain": [
       "F_onewayResult(statistic=2.96962669358912, pvalue=0.0308933560705201)"
      ]
     },
     "execution_count": 61,
     "metadata": {},
     "output_type": "execute_result"
    }
   ],
   "source": [
    "# perform the correct hypothesis test\n",
    "# note again the use of the * operator for convenience\n",
    "result = stats.f_oneway( *groups.values())\n",
    "result"
   ]
  },
  {
   "cell_type": "markdown",
   "id": "277e7c94",
   "metadata": {},
   "source": [
    "### 5. Interpret your p-value and reject or fail to reject your null hypothesis"
   ]
  },
  {
   "cell_type": "markdown",
   "id": "1129fde5",
   "metadata": {},
   "source": [
    "p<$\\alpha$, thus we must reject the null hypothesis.  This implies that there is significant difference in mean charges in regions.\n",
    "\n",
    "An ANOVA returns a single p-value to represent the differences between ALL groups. Now that we KNOW we have significant differences, we are allowed to perform pairwise comparisons between every group.\n",
    "\n",
    "We will not use an ordinary t-test for this, instead, we will use a test that is specifically designed to adjust each pair's p-values so that we are less likely to make a Type I error.\n"
   ]
  },
  {
   "cell_type": "code",
   "execution_count": 60,
   "id": "cdf50dec",
   "metadata": {
    "scrolled": true
   },
   "outputs": [
    {
     "data": {
      "text/html": [
       "<table class=\"simpletable\">\n",
       "<caption>Multiple Comparison of Means - Tukey HSD, FWER=0.05</caption>\n",
       "<tr>\n",
       "   <th>group1</th>    <th>group2</th>    <th>meandiff</th>   <th>p-adj</th>    <th>lower</th>     <th>upper</th>   <th>reject</th>\n",
       "</tr>\n",
       "<tr>\n",
       "  <td>northeast</td> <td>northwest</td>  <td>-988.8091</td> <td>0.7245</td> <td>-3428.9343</td> <td>1451.3161</td>  <td>False</td>\n",
       "</tr>\n",
       "<tr>\n",
       "  <td>northeast</td> <td>southeast</td>  <td>1329.0269</td> <td>0.4745</td> <td>-1044.9417</td> <td>3702.9955</td>  <td>False</td>\n",
       "</tr>\n",
       "<tr>\n",
       "  <td>northeast</td> <td>southwest</td> <td>-1059.4471</td> <td>0.6792</td> <td>-3499.5723</td> <td>1380.6781</td>  <td>False</td>\n",
       "</tr>\n",
       "<tr>\n",
       "  <td>northwest</td> <td>southeast</td>  <td>2317.8361</td> <td>0.0583</td>  <td>-54.1994</td>  <td>4689.8716</td>  <td>False</td>\n",
       "</tr>\n",
       "<tr>\n",
       "  <td>northwest</td> <td>southwest</td>   <td>-70.638</td>  <td>0.9999</td> <td>-2508.8826</td> <td>2367.6066</td>  <td>False</td>\n",
       "</tr>\n",
       "<tr>\n",
       "  <td>southeast</td> <td>southwest</td> <td>-2388.4741</td> <td>0.0477</td> <td>-4760.5096</td> <td>-16.4386</td>   <td>True</td> \n",
       "</tr>\n",
       "</table>"
      ],
      "text/plain": [
       "<class 'statsmodels.iolib.table.SimpleTable'>"
      ]
     },
     "execution_count": 60,
     "metadata": {},
     "output_type": "execute_result"
    }
   ],
   "source": [
    "from statsmodels.stats.multicomp import pairwise_tukeyhsd\n",
    "## save the values as charges and the labels to the regions\n",
    "values = df['charges']\n",
    "labels = df['region']\n",
    "\n",
    "## perform tukey's multiple comparison test and display the summary\n",
    "tukeys_results = pairwise_tukeyhsd(values,labels)\n",
    "tukeys_results.summary()\n"
   ]
  },
  {
   "cell_type": "markdown",
   "id": "ff9c71fe",
   "metadata": {},
   "source": [
    "We can see we have a significant result in comparing the southeast and southwest regions.  All other group comparisons show that we my reject the null hypothesis."
   ]
  }
 ],
 "metadata": {
  "kernelspec": {
   "display_name": "Python (dojo-env)",
   "language": "python",
   "name": "dojo-env"
  },
  "language_info": {
   "codemirror_mode": {
    "name": "ipython",
    "version": 3
   },
   "file_extension": ".py",
   "mimetype": "text/x-python",
   "name": "python",
   "nbconvert_exporter": "python",
   "pygments_lexer": "ipython3",
   "version": "3.9.15"
  },
  "toc": {
   "base_numbering": 1,
   "nav_menu": {},
   "number_sections": false,
   "sideBar": true,
   "skip_h1_title": false,
   "title_cell": "Table of Contents",
   "title_sidebar": "Contents",
   "toc_cell": false,
   "toc_position": {},
   "toc_section_display": true,
   "toc_window_display": true
  }
 },
 "nbformat": 4,
 "nbformat_minor": 5
}
